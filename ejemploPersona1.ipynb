{
 "cells": [
  {
   "cell_type": "raw",
   "id": "b87e7ba2-a7c3-47e1-be24-0b9d74c8cebc",
   "metadata": {},
   "source": [
    "# ============================\n",
    "# 1. Imports\n",
    "# ============================\n",
    "\n",
    "import pandas as pd\n",
    "import numpy as np\n",
    "import matplotlib.pyplot as plt\n",
    "import seaborn as sns\n",
    "\n",
    "# Mostrar gráficos directamente en el notebook\n",
    "%matplotlib inline\n",
    "\n",
    "# Semilla para reproducibilidad\n",
    "RSEED = 42\n",
    "np.random.seed(RSEED)\n",
    "\n",
    "print(\"Celda 1 completada: imports y configuración lista\")\n"
   ]
  },
  {
   "cell_type": "code",
   "execution_count": 3,
   "id": "259d7fae-ce13-4bc9-b2ca-bf35810c8137",
   "metadata": {},
   "outputs": [
    {
     "name": "stdout",
     "output_type": "stream",
     "text": [
      "Celda 2 completada: CSV cargado correctamente\n"
     ]
    },
    {
     "data": {
      "text/html": [
       "<div>\n",
       "<style scoped>\n",
       "    .dataframe tbody tr th:only-of-type {\n",
       "        vertical-align: middle;\n",
       "    }\n",
       "\n",
       "    .dataframe tbody tr th {\n",
       "        vertical-align: top;\n",
       "    }\n",
       "\n",
       "    .dataframe thead th {\n",
       "        text-align: right;\n",
       "    }\n",
       "</style>\n",
       "<table border=\"1\" class=\"dataframe\">\n",
       "  <thead>\n",
       "    <tr style=\"text-align: right;\">\n",
       "      <th></th>\n",
       "      <th>ID</th>\n",
       "      <th>Name</th>\n",
       "      <th>Sex</th>\n",
       "      <th>Age</th>\n",
       "      <th>Height</th>\n",
       "      <th>Weight</th>\n",
       "      <th>Team</th>\n",
       "      <th>NOC</th>\n",
       "      <th>Games</th>\n",
       "      <th>Year</th>\n",
       "      <th>Season</th>\n",
       "      <th>City</th>\n",
       "      <th>Sport</th>\n",
       "      <th>Event</th>\n",
       "      <th>Medal</th>\n",
       "    </tr>\n",
       "  </thead>\n",
       "  <tbody>\n",
       "    <tr>\n",
       "      <th>0</th>\n",
       "      <td>1</td>\n",
       "      <td>A Dijiang</td>\n",
       "      <td>M</td>\n",
       "      <td>24.0</td>\n",
       "      <td>180.0</td>\n",
       "      <td>80.0</td>\n",
       "      <td>China</td>\n",
       "      <td>CHN</td>\n",
       "      <td>1992 Summer</td>\n",
       "      <td>1992</td>\n",
       "      <td>Summer</td>\n",
       "      <td>Barcelona</td>\n",
       "      <td>Basketball</td>\n",
       "      <td>Basketball Men's Basketball</td>\n",
       "      <td>NaN</td>\n",
       "    </tr>\n",
       "    <tr>\n",
       "      <th>1</th>\n",
       "      <td>2</td>\n",
       "      <td>A Lamusi</td>\n",
       "      <td>M</td>\n",
       "      <td>23.0</td>\n",
       "      <td>170.0</td>\n",
       "      <td>60.0</td>\n",
       "      <td>China</td>\n",
       "      <td>CHN</td>\n",
       "      <td>2012 Summer</td>\n",
       "      <td>2012</td>\n",
       "      <td>Summer</td>\n",
       "      <td>London</td>\n",
       "      <td>Judo</td>\n",
       "      <td>Judo Men's Extra-Lightweight</td>\n",
       "      <td>NaN</td>\n",
       "    </tr>\n",
       "    <tr>\n",
       "      <th>2</th>\n",
       "      <td>3</td>\n",
       "      <td>Gunnar Nielsen Aaby</td>\n",
       "      <td>M</td>\n",
       "      <td>24.0</td>\n",
       "      <td>NaN</td>\n",
       "      <td>NaN</td>\n",
       "      <td>Denmark</td>\n",
       "      <td>DEN</td>\n",
       "      <td>1920 Summer</td>\n",
       "      <td>1920</td>\n",
       "      <td>Summer</td>\n",
       "      <td>Antwerpen</td>\n",
       "      <td>Football</td>\n",
       "      <td>Football Men's Football</td>\n",
       "      <td>NaN</td>\n",
       "    </tr>\n",
       "    <tr>\n",
       "      <th>3</th>\n",
       "      <td>4</td>\n",
       "      <td>Edgar Lindenau Aabye</td>\n",
       "      <td>M</td>\n",
       "      <td>34.0</td>\n",
       "      <td>NaN</td>\n",
       "      <td>NaN</td>\n",
       "      <td>Denmark/Sweden</td>\n",
       "      <td>DEN</td>\n",
       "      <td>1900 Summer</td>\n",
       "      <td>1900</td>\n",
       "      <td>Summer</td>\n",
       "      <td>Paris</td>\n",
       "      <td>Tug-Of-War</td>\n",
       "      <td>Tug-Of-War Men's Tug-Of-War</td>\n",
       "      <td>Gold</td>\n",
       "    </tr>\n",
       "    <tr>\n",
       "      <th>4</th>\n",
       "      <td>5</td>\n",
       "      <td>Christine Jacoba Aaftink</td>\n",
       "      <td>F</td>\n",
       "      <td>21.0</td>\n",
       "      <td>185.0</td>\n",
       "      <td>82.0</td>\n",
       "      <td>Netherlands</td>\n",
       "      <td>NED</td>\n",
       "      <td>1988 Winter</td>\n",
       "      <td>1988</td>\n",
       "      <td>Winter</td>\n",
       "      <td>Calgary</td>\n",
       "      <td>Speed Skating</td>\n",
       "      <td>Speed Skating Women's 500 metres</td>\n",
       "      <td>NaN</td>\n",
       "    </tr>\n",
       "  </tbody>\n",
       "</table>\n",
       "</div>"
      ],
      "text/plain": [
       "   ID                      Name Sex   Age  Height  Weight            Team  \\\n",
       "0   1                 A Dijiang   M  24.0   180.0    80.0           China   \n",
       "1   2                  A Lamusi   M  23.0   170.0    60.0           China   \n",
       "2   3       Gunnar Nielsen Aaby   M  24.0     NaN     NaN         Denmark   \n",
       "3   4      Edgar Lindenau Aabye   M  34.0     NaN     NaN  Denmark/Sweden   \n",
       "4   5  Christine Jacoba Aaftink   F  21.0   185.0    82.0     Netherlands   \n",
       "\n",
       "   NOC        Games  Year  Season       City          Sport  \\\n",
       "0  CHN  1992 Summer  1992  Summer  Barcelona     Basketball   \n",
       "1  CHN  2012 Summer  2012  Summer     London           Judo   \n",
       "2  DEN  1920 Summer  1920  Summer  Antwerpen       Football   \n",
       "3  DEN  1900 Summer  1900  Summer      Paris     Tug-Of-War   \n",
       "4  NED  1988 Winter  1988  Winter    Calgary  Speed Skating   \n",
       "\n",
       "                              Event Medal  \n",
       "0       Basketball Men's Basketball   NaN  \n",
       "1      Judo Men's Extra-Lightweight   NaN  \n",
       "2           Football Men's Football   NaN  \n",
       "3       Tug-Of-War Men's Tug-Of-War  Gold  \n",
       "4  Speed Skating Women's 500 metres   NaN  "
      ]
     },
     "execution_count": 3,
     "metadata": {},
     "output_type": "execute_result"
    }
   ],
   "source": [
    "import os\n",
    "import pandas as pd\n",
    "\n",
    "# Ruta absoluta relativa a la raíz del proyecto\n",
    "data_path = os.path.join(\"..\", \"data\", \"athlete_events.csv\")  # \"..\" sube una carpeta\n",
    "df = pd.read_csv(data_path)\n",
    "\n",
    "print(\"Celda 2 completada: CSV cargado correctamente\")\n",
    "df.head()\n",
    "\n"
   ]
  },
  {
   "cell_type": "code",
   "execution_count": 1,
   "id": "323a3fae-c648-4b85-adc6-2a0dde207013",
   "metadata": {},
   "outputs": [
    {
     "ename": "NameError",
     "evalue": "name 'df' is not defined",
     "output_type": "error",
     "traceback": [
      "\u001b[31m---------------------------------------------------------------------------\u001b[39m",
      "\u001b[31mNameError\u001b[39m                                 Traceback (most recent call last)",
      "\u001b[36mCell\u001b[39m\u001b[36m \u001b[39m\u001b[32mIn[1]\u001b[39m\u001b[32m, line 6\u001b[39m\n\u001b[32m      1\u001b[39m \u001b[38;5;66;03m# ============================\u001b[39;00m\n\u001b[32m      2\u001b[39m \u001b[38;5;66;03m# 3. Preprocesamiento\u001b[39;00m\n\u001b[32m      3\u001b[39m \u001b[38;5;66;03m# ============================\u001b[39;00m\n\u001b[32m      4\u001b[39m \n\u001b[32m      5\u001b[39m \u001b[38;5;66;03m# Convertir Medals NaN a 'NoMedal'\u001b[39;00m\n\u001b[32m----> \u001b[39m\u001b[32m6\u001b[39m df[\u001b[33m'\u001b[39m\u001b[33mMedal\u001b[39m\u001b[33m'\u001b[39m] = \u001b[43mdf\u001b[49m[\u001b[33m'\u001b[39m\u001b[33mMedal\u001b[39m\u001b[33m'\u001b[39m].fillna(\u001b[33m'\u001b[39m\u001b[33mNoMedal\u001b[39m\u001b[33m'\u001b[39m)\n\u001b[32m      8\u001b[39m \u001b[38;5;66;03m# Crear columna binaria: 1 si tiene medalla, 0 si no\u001b[39;00m\n\u001b[32m      9\u001b[39m df[\u001b[33m'\u001b[39m\u001b[33mMedaled\u001b[39m\u001b[33m'\u001b[39m] = (df[\u001b[33m'\u001b[39m\u001b[33mMedal\u001b[39m\u001b[33m'\u001b[39m] != \u001b[33m'\u001b[39m\u001b[33mNoMedal\u001b[39m\u001b[33m'\u001b[39m).astype(\u001b[38;5;28mint\u001b[39m)\n",
      "\u001b[31mNameError\u001b[39m: name 'df' is not defined"
     ]
    }
   ],
   "source": [
    "# ============================\n",
    "# 3. Preprocesamiento\n",
    "# ============================\n",
    "\n",
    "# Convertir Medals NaN a 'NoMedal'\n",
    "df['Medal'] = df['Medal'].fillna('NoMedal')\n",
    "\n",
    "# Crear columna binaria: 1 si tiene medalla, 0 si no\n",
    "df['Medaled'] = (df['Medal'] != 'NoMedal').astype(int)\n",
    "\n",
    "# Filtrar solo Summer Olympics (opcional)\n",
    "df = df[df['Season'] == 'Summer']\n",
    "\n",
    "# Imputar valores faltantes\n",
    "df['Height'] = df.groupby('Sport')['Height'].transform(lambda x: x.fillna(x.median()))\n",
    "df['Weight'] = df.groupby('Sport')['Weight'].transform(lambda x: x.fillna(x.median()))\n",
    "df['Age'] = df['Age'].fillna(df['Age'].median())\n",
    "\n",
    "print(\"Celda 3 completada: preprocesamiento inicial listo\")\n",
    "df.head()\n"
   ]
  },
  {
   "cell_type": "code",
   "execution_count": 5,
   "id": "b3b7edfa-cf62-4431-88aa-21cd03d159e8",
   "metadata": {},
   "outputs": [
    {
     "name": "stdout",
     "output_type": "stream",
     "text": [
      "Celda 4 completada: train/test dividido\n"
     ]
    }
   ],
   "source": [
    "# ============================\n",
    "# 4. Features y particionado\n",
    "# ============================\n",
    "\n",
    "from sklearn.model_selection import train_test_split\n",
    "\n",
    "num_cols = ['Age', 'Height', 'Weight']\n",
    "cat_cols = ['Sex', 'Sport', 'Team']\n",
    "\n",
    "X = df[num_cols + cat_cols]\n",
    "y = df['Medaled']\n",
    "\n",
    "X_train, X_test, y_train, y_test = train_test_split(\n",
    "    X, y, test_size=0.3, stratify=y, random_state=RSEED\n",
    ")\n",
    "\n",
    "print(\"Celda 4 completada: train/test dividido\")\n"
   ]
  },
  {
   "cell_type": "code",
   "execution_count": null,
   "id": "ea3ae9a1-e6a7-4095-8b19-295f672e28b7",
   "metadata": {},
   "outputs": [],
   "source": [
    "# ============================\n",
    "# 5. Pipeline y modelo\n",
    "# ============================\n",
    "\n",
    "from sklearn.pipeline import Pipeline\n",
    "from sklearn.compose import ColumnTransformer\n",
    "from sklearn.impute import SimpleImputer\n",
    "from sklearn.preprocessing import OneHotEncoder, StandardScaler\n",
    "from sklearn.ensemble import RandomForestClassifier\n",
    "\n",
    "# Transformadores\n",
    "num_transformer = Pipeline([\n",
    "    ('imputer', SimpleImputer(strategy='median')),\n",
    "    ('scaler', StandardScaler())\n",
    "])\n",
    "\n",
    "cat_transformer = Pipeline([\n",
    "    ('imputer', SimpleImputer(strategy='constant', fill_value='missing')),\n",
    "    ('onehot', OneHotEncoder(handle_unknown='ignore'))\n",
    "])\n",
    "\n",
    "preprocessor = ColumnTransformer([\n",
    "    ('num', num_transformer, num_cols),\n",
    "    ('cat', cat_transformer, cat_cols)\n",
    "])\n",
    "\n",
    "# Pipeline completo\n",
    "pipe_rf = Pipeline([\n",
    "    ('pre', preprocessor),\n",
    "    ('clf', RandomForestClassifier(n_estimators=200, random_state=RSEED, class_weight='balanced'))\n",
    "])\n",
    "\n",
    "# Entrenar\n",
    "pipe_rf.fit(X_train, y_train)\n",
    "\n",
    "print(\"Celda 5 completada: modelo Random Forest entrenado\")\n"
   ]
  },
  {
   "cell_type": "code",
   "execution_count": 11,
   "id": "49deb016-9c0f-4ba2-8242-a35fa634c4a8",
   "metadata": {},
   "outputs": [
    {
     "name": "stdout",
     "output_type": "stream",
     "text": [
      "              precision    recall  f1-score   support\n",
      "\n",
      "           0       0.87      0.84      0.86     56540\n",
      "           1       0.27      0.34      0.30     10226\n",
      "\n",
      "    accuracy                           0.76     66766\n",
      "   macro avg       0.57      0.59      0.58     66766\n",
      "weighted avg       0.78      0.76      0.77     66766\n",
      "\n"
     ]
    },
    {
     "data": {
      "image/png": "[encoded data removed]",
      "text/plain": [
       "<Figure size 640x480 with 2 Axes>"
      ]
     },
     "metadata": {},
     "output_type": "display_data"
    },
    {
     "name": "stdout",
     "output_type": "stream",
     "text": [
      "Celda 6 completada: evaluación terminada\n"
     ]
    }
   ],
   "source": [
    "# ============================\n",
    "# 6. Evaluación\n",
    "# ============================\n",
    "\n",
    "from sklearn.metrics import classification_report, ConfusionMatrixDisplay\n",
    "\n",
    "y_pred = pipe_rf.predict(X_test)\n",
    "\n",
    "print(classification_report(y_test, y_pred))\n",
    "\n",
    "ConfusionMatrixDisplay.from_estimator(pipe_rf, X_test, y_test)\n",
    "plt.show()\n",
    "\n",
    "print(\"Celda 6 completada: evaluación terminada\")\n"
   ]
  },
  {
   "cell_type": "code",
   "execution_count": null,
   "id": "7c59b674-6037-493e-9766-7a2b46a608a2",
   "metadata": {},
   "outputs": [],
   "source": [
    "# ============================\n",
    "# 7. Predicción de ejemplo\n",
    "# ============================\n",
    "\n",
    "example = pd.DataFrame([{\n",
    "    'Age': 25,\n",
    "    'Height': 173,\n",
    "    'Weight': 80,\n",
    "    'Sex': 'M',\n",
    "    'Sport': 'Athletics',\n",
    "    'Team': 'USA'\n",
    "}])\n",
    "\n",
    "pred = pipe_rf.predict(example)\n",
    "proba = pipe_rf.predict_proba(example)[0,1]\n",
    "\n",
    "print(f\"Predicción de medalla: {pred[0]} (probabilidad: {proba:.2f})\")\n",
    "print(\"Celda 7 completada: predicción realizada\")\n"
   ]
  },
  {
   "cell_type": "code",
   "execution_count": 7,
   "id": "cd1cf3d3-0114-425f-83ea-5f4ee8c1bc13",
   "metadata": {},
   "outputs": [
    {
     "ename": "IndexError",
     "evalue": "list index out of range",
     "output_type": "error",
     "traceback": [
      "\u001b[31m---------------------------------------------------------------------------\u001b[39m",
      "\u001b[31mIndexError\u001b[39m                                Traceback (most recent call last)",
      "\u001b[36mCell\u001b[39m\u001b[36m \u001b[39m\u001b[32mIn[7]\u001b[39m\u001b[32m, line 14\u001b[39m\n\u001b[32m      1\u001b[39m  \u001b[38;5;66;03m# ============================\u001b[39;00m\n\u001b[32m      2\u001b[39m \u001b[38;5;66;03m# 7. Predicción de ejemplo\u001b[39;00m\n\u001b[32m      3\u001b[39m \u001b[38;5;66;03m# ============================\u001b[39;00m\n\u001b[32m      5\u001b[39m example = pd.DataFrame([{\n\u001b[32m      6\u001b[39m     \u001b[33m'\u001b[39m\u001b[33mAge\u001b[39m\u001b[33m'\u001b[39m: \u001b[32m21\u001b[39m,\n\u001b[32m      7\u001b[39m     \u001b[33m'\u001b[39m\u001b[33mHeight\u001b[39m\u001b[33m'\u001b[39m: \u001b[32m185\u001b[39m,\n\u001b[32m   (...)\u001b[39m\u001b[32m     11\u001b[39m     \u001b[33m'\u001b[39m\u001b[33mTeam\u001b[39m\u001b[33m'\u001b[39m: \u001b[33m'\u001b[39m\u001b[33mUSA\u001b[39m\u001b[33m'\u001b[39m\n\u001b[32m     12\u001b[39m }])\n\u001b[32m---> \u001b[39m\u001b[32m14\u001b[39m pred = \u001b[43mpipe_rf\u001b[49m\u001b[43m.\u001b[49m\u001b[43mpredict\u001b[49m\u001b[43m(\u001b[49m\u001b[43mexample\u001b[49m\u001b[43m)\u001b[49m\n\u001b[32m     15\u001b[39m proba = pipe_rf.predict_proba(example)[\u001b[32m0\u001b[39m,\u001b[32m1\u001b[39m]\n\u001b[32m     17\u001b[39m \u001b[38;5;28mprint\u001b[39m(\u001b[33mf\u001b[39m\u001b[33m\"\u001b[39m\u001b[33mPredicción de medalla: \u001b[39m\u001b[38;5;132;01m{\u001b[39;00mpred[\u001b[32m0\u001b[39m]\u001b[38;5;132;01m}\u001b[39;00m\u001b[33m (probabilidad: \u001b[39m\u001b[38;5;132;01m{\u001b[39;00mproba\u001b[38;5;132;01m:\u001b[39;00m\u001b[33m.2f\u001b[39m\u001b[38;5;132;01m}\u001b[39;00m\u001b[33m)\u001b[39m\u001b[33m\"\u001b[39m)\n",
      "\u001b[36mFile \u001b[39m\u001b[32m~\\olympics-project\\venv\\Lib\\site-packages\\sklearn\\pipeline.py:789\u001b[39m, in \u001b[36mPipeline.predict\u001b[39m\u001b[34m(self, X, **params)\u001b[39m\n\u001b[32m    787\u001b[39m     \u001b[38;5;28;01mfor\u001b[39;00m _, name, transform \u001b[38;5;129;01min\u001b[39;00m \u001b[38;5;28mself\u001b[39m._iter(with_final=\u001b[38;5;28;01mFalse\u001b[39;00m):\n\u001b[32m    788\u001b[39m         Xt = transform.transform(Xt)\n\u001b[32m--> \u001b[39m\u001b[32m789\u001b[39m     \u001b[38;5;28;01mreturn\u001b[39;00m \u001b[38;5;28;43mself\u001b[39;49m\u001b[43m.\u001b[49m\u001b[43msteps\u001b[49m\u001b[43m[\u001b[49m\u001b[43m-\u001b[49m\u001b[32;43m1\u001b[39;49m\u001b[43m]\u001b[49m\u001b[43m[\u001b[49m\u001b[32;43m1\u001b[39;49m\u001b[43m]\u001b[49m\u001b[43m.\u001b[49m\u001b[43mpredict\u001b[49m\u001b[43m(\u001b[49m\u001b[43mXt\u001b[49m\u001b[43m,\u001b[49m\u001b[43m \u001b[49m\u001b[43m*\u001b[49m\u001b[43m*\u001b[49m\u001b[43mparams\u001b[49m\u001b[43m)\u001b[49m\n\u001b[32m    791\u001b[39m \u001b[38;5;66;03m# metadata routing enabled\u001b[39;00m\n\u001b[32m    792\u001b[39m routed_params = process_routing(\u001b[38;5;28mself\u001b[39m, \u001b[33m\"\u001b[39m\u001b[33mpredict\u001b[39m\u001b[33m\"\u001b[39m, **params)\n",
      "\u001b[36mFile \u001b[39m\u001b[32m~\\olympics-project\\venv\\Lib\\site-packages\\sklearn\\ensemble\\_forest.py:903\u001b[39m, in \u001b[36mForestClassifier.predict\u001b[39m\u001b[34m(self, X)\u001b[39m\n\u001b[32m    882\u001b[39m \u001b[38;5;28;01mdef\u001b[39;00m\u001b[38;5;250m \u001b[39m\u001b[34mpredict\u001b[39m(\u001b[38;5;28mself\u001b[39m, X):\n\u001b[32m    883\u001b[39m \u001b[38;5;250m    \u001b[39m\u001b[33;03m\"\"\"\u001b[39;00m\n\u001b[32m    884\u001b[39m \u001b[33;03m    Predict class for X.\u001b[39;00m\n\u001b[32m    885\u001b[39m \n\u001b[32m   (...)\u001b[39m\u001b[32m    901\u001b[39m \u001b[33;03m        The predicted classes.\u001b[39;00m\n\u001b[32m    902\u001b[39m \u001b[33;03m    \"\"\"\u001b[39;00m\n\u001b[32m--> \u001b[39m\u001b[32m903\u001b[39m     proba = \u001b[38;5;28;43mself\u001b[39;49m\u001b[43m.\u001b[49m\u001b[43mpredict_proba\u001b[49m\u001b[43m(\u001b[49m\u001b[43mX\u001b[49m\u001b[43m)\u001b[49m\n\u001b[32m    905\u001b[39m     \u001b[38;5;28;01mif\u001b[39;00m \u001b[38;5;28mself\u001b[39m.n_outputs_ == \u001b[32m1\u001b[39m:\n\u001b[32m    906\u001b[39m         \u001b[38;5;28;01mreturn\u001b[39;00m \u001b[38;5;28mself\u001b[39m.classes_.take(np.argmax(proba, axis=\u001b[32m1\u001b[39m), axis=\u001b[32m0\u001b[39m)\n",
      "\u001b[36mFile \u001b[39m\u001b[32m~\\olympics-project\\venv\\Lib\\site-packages\\sklearn\\ensemble\\_forest.py:945\u001b[39m, in \u001b[36mForestClassifier.predict_proba\u001b[39m\u001b[34m(self, X)\u001b[39m\n\u001b[32m    943\u001b[39m check_is_fitted(\u001b[38;5;28mself\u001b[39m)\n\u001b[32m    944\u001b[39m \u001b[38;5;66;03m# Check data\u001b[39;00m\n\u001b[32m--> \u001b[39m\u001b[32m945\u001b[39m X = \u001b[38;5;28;43mself\u001b[39;49m\u001b[43m.\u001b[49m\u001b[43m_validate_X_predict\u001b[49m\u001b[43m(\u001b[49m\u001b[43mX\u001b[49m\u001b[43m)\u001b[49m\n\u001b[32m    947\u001b[39m \u001b[38;5;66;03m# Assign chunk of trees to jobs\u001b[39;00m\n\u001b[32m    948\u001b[39m n_jobs, _, _ = _partition_estimators(\u001b[38;5;28mself\u001b[39m.n_estimators, \u001b[38;5;28mself\u001b[39m.n_jobs)\n",
      "\u001b[36mFile \u001b[39m\u001b[32m~\\olympics-project\\venv\\Lib\\site-packages\\sklearn\\ensemble\\_forest.py:632\u001b[39m, in \u001b[36mBaseForest._validate_X_predict\u001b[39m\u001b[34m(self, X)\u001b[39m\n\u001b[32m    629\u001b[39m \u001b[38;5;250m\u001b[39m\u001b[33;03m\"\"\"\u001b[39;00m\n\u001b[32m    630\u001b[39m \u001b[33;03mValidate X whenever one tries to predict, apply, predict_proba.\"\"\"\u001b[39;00m\n\u001b[32m    631\u001b[39m check_is_fitted(\u001b[38;5;28mself\u001b[39m)\n\u001b[32m--> \u001b[39m\u001b[32m632\u001b[39m \u001b[38;5;28;01mif\u001b[39;00m \u001b[38;5;28;43mself\u001b[39;49m\u001b[43m.\u001b[49m\u001b[43mestimators_\u001b[49m\u001b[43m[\u001b[49m\u001b[32;43m0\u001b[39;49m\u001b[43m]\u001b[49m._support_missing_values(X):\n\u001b[32m    633\u001b[39m     ensure_all_finite = \u001b[33m\"\u001b[39m\u001b[33mallow-nan\u001b[39m\u001b[33m\"\u001b[39m\n\u001b[32m    634\u001b[39m \u001b[38;5;28;01melse\u001b[39;00m:\n",
      "\u001b[31mIndexError\u001b[39m: list index out of range"
     ]
    }
   ],
   "source": [
    " # ============================\n",
    "# 7. Predicción de ejemplo\n",
    "# ============================\n",
    "\n",
    "example = pd.DataFrame([{\n",
    "    'Age': 21,\n",
    "    'Height': 185,\n",
    "    'Weight': 85,\n",
    "    'Sex': 'M',\n",
    "    'Sport': 'Athletics',\n",
    "    'Team': 'USA'\n",
    "}])\n",
    "\n",
    "pred = pipe_rf.predict(example)\n",
    "proba = pipe_rf.predict_proba(example)[0,1]\n",
    "\n",
    "print(f\"Predicción de medalla: {pred[0]} (probabilidad: {proba:.2f})\")\n",
    "print(\"Celda 7 completada: predicción realizada\")"
   ]
  },
  {
   "cell_type": "code",
   "execution_count": 1,
   "id": "e61f5157-9d51-4003-8f26-70fa7cb5df4b",
   "metadata": {},
   "outputs": [
    {
     "ename": "NameError",
     "evalue": "name 'pd' is not defined",
     "output_type": "error",
     "traceback": [
      "\u001b[31m---------------------------------------------------------------------------\u001b[39m",
      "\u001b[31mNameError\u001b[39m                                 Traceback (most recent call last)",
      "\u001b[36mCell\u001b[39m\u001b[36m \u001b[39m\u001b[32mIn[1]\u001b[39m\u001b[32m, line 5\u001b[39m\n\u001b[32m      1\u001b[39m  \u001b[38;5;66;03m# ============================\u001b[39;00m\n\u001b[32m      2\u001b[39m \u001b[38;5;66;03m# 7. Predicción de ejemplo\u001b[39;00m\n\u001b[32m      3\u001b[39m \u001b[38;5;66;03m# ============================\u001b[39;00m\n\u001b[32m----> \u001b[39m\u001b[32m5\u001b[39m example = \u001b[43mpd\u001b[49m.DataFrame([{\n\u001b[32m      6\u001b[39m     \u001b[33m'\u001b[39m\u001b[33mAge\u001b[39m\u001b[33m'\u001b[39m: \u001b[32m24\u001b[39m,\n\u001b[32m      7\u001b[39m     \u001b[33m'\u001b[39m\u001b[33mHeight\u001b[39m\u001b[33m'\u001b[39m: \u001b[32m182\u001b[39m,\n\u001b[32m      8\u001b[39m     \u001b[33m'\u001b[39m\u001b[33mWeight\u001b[39m\u001b[33m'\u001b[39m: \u001b[32m75\u001b[39m,\n\u001b[32m      9\u001b[39m     \u001b[33m'\u001b[39m\u001b[33mSex\u001b[39m\u001b[33m'\u001b[39m: \u001b[33m'\u001b[39m\u001b[33mM\u001b[39m\u001b[33m'\u001b[39m,\n\u001b[32m     10\u001b[39m     \u001b[33m'\u001b[39m\u001b[33mSport\u001b[39m\u001b[33m'\u001b[39m: \u001b[33m'\u001b[39m\u001b[33mswimming\u001b[39m\u001b[33m'\u001b[39m,\n\u001b[32m     11\u001b[39m     \u001b[33m'\u001b[39m\u001b[33mTeam\u001b[39m\u001b[33m'\u001b[39m: \u001b[33m'\u001b[39m\u001b[33mUSA\u001b[39m\u001b[33m'\u001b[39m\n\u001b[32m     12\u001b[39m }])\n\u001b[32m     14\u001b[39m pred = pipe_rf.predict(example)\n\u001b[32m     15\u001b[39m proba = pipe_rf.predict_proba(example)[\u001b[32m0\u001b[39m,\u001b[32m1\u001b[39m]\n",
      "\u001b[31mNameError\u001b[39m: name 'pd' is not defined"
     ]
    }
   ],
   "source": [
    " # ============================\n",
    "# 7. Predicción de ejemplo\n",
    "# ============================\n",
    "\n",
    "example = pd.DataFrame([{\n",
    "    'Age': 24,\n",
    "    'Height': 182,\n",
    "    'Weight': 75,\n",
    "    'Sex': 'M',\n",
    "    'Sport': 'swimming',\n",
    "    'Team': 'USA'\n",
    "}])\n",
    "\n",
    "pred = pipe_rf.predict(example)\n",
    "proba = pipe_rf.predict_proba(example)[0,1]\n",
    "\n",
    "print(f\"Predicción de medalla: {pred[0]} (probabilidad: {proba:.2f})\")\n",
    "print(\"Celda 7 completada: predicción realizada\")"
   ]
  },
  {
   "cell_type": "code",
   "execution_count": null,
   "id": "6be29455-e595-4578-8228-f69270a44688",
   "metadata": {},
   "outputs": [],
   "source": []
  }
 ],
 "metadata": {
  "kernelspec": {
   "display_name": "Python 3 (ipykernel)",
   "language": "python",
   "name": "python3"
  },
  "language_info": {
   "codemirror_mode": {
    "name": "ipython",
    "version": 3
   },
   "file_extension": ".py",
   "mimetype": "text/x-python",
   "name": "python",
   "nbconvert_exporter": "python",
   "pygments_lexer": "ipython3",
   "version": "3.12.10"
  }
 },
 "nbformat": 4,
 "nbformat_minor": 5
}
